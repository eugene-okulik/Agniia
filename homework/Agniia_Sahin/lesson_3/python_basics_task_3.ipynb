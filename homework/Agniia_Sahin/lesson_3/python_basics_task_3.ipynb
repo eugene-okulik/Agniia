{
 "cells": [
  {
   "cell_type": "code",
   "execution_count": 1,
   "metadata": {},
   "outputs": [
    {
     "name": "stdout",
     "output_type": "stream",
     "text": [
      "17.5\n",
      "15.811388300841896\n"
     ]
    }
   ],
   "source": [
    "num_1 = 10\n",
    "num_2 = 25\n",
    "average_arithmetic = (num_1 + num_2) / 2\n",
    "average_geometric = (num_1 * num_2) ** 0.5\n",
    "print(average_arithmetic)\n",
    "print(average_geometric)"
   ]
  }
 ],
 "metadata": {
  "kernelspec": {
   "display_name": "Python 3",
   "language": "python",
   "name": "python3"
  },
  "language_info": {
   "codemirror_mode": {
    "name": "ipython",
    "version": 3
   },
   "file_extension": ".py",
   "mimetype": "text/x-python",
   "name": "python",
   "nbconvert_exporter": "python",
   "pygments_lexer": "ipython3",
   "version": "3.10.12"
  },
  "orig_nbformat": 4
 },
 "nbformat": 4,
 "nbformat_minor": 2
}
