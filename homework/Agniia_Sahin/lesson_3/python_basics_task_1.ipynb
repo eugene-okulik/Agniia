{
 "cells": [
  {
   "cell_type": "markdown",
   "metadata": {},
   "source": [
    "Task 1"
   ]
  },
  {
   "cell_type": "code",
   "execution_count": 3,
   "metadata": {},
   "outputs": [
    {
     "name": "stdout",
     "output_type": "stream",
     "text": [
      "11\n",
      "1\n",
      "30\n"
     ]
    }
   ],
   "source": [
    "a = 5\n",
    "b = 6\n",
    "sum = a + b\n",
    "difference = b - a\n",
    "number_product = a * b\n",
    "print(sum)\n",
    "print(difference)\n",
    "print(number_product)"
   ]
  }
 ],
 "metadata": {
  "kernelspec": {
   "display_name": "Python 3",
   "language": "python",
   "name": "python3"
  },
  "language_info": {
   "codemirror_mode": {
    "name": "ipython",
    "version": 3
   },
   "file_extension": ".py",
   "mimetype": "text/x-python",
   "name": "python",
   "nbconvert_exporter": "python",
   "pygments_lexer": "ipython3",
   "version": "3.10.12"
  },
  "orig_nbformat": 4
 },
 "nbformat": 4,
 "nbformat_minor": 2
}
